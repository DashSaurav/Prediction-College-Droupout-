{
 "cells": [
  {
   "cell_type": "code",
   "execution_count": 1,
   "metadata": {},
   "outputs": [],
   "source": [
    "import pandas as pd\n",
    "import numpy as np"
   ]
  },
  {
   "cell_type": "code",
   "execution_count": 9,
   "metadata": {},
   "outputs": [
    {
     "data": {
      "text/html": [
       "<div>\n",
       "<style scoped>\n",
       "    .dataframe tbody tr th:only-of-type {\n",
       "        vertical-align: middle;\n",
       "    }\n",
       "\n",
       "    .dataframe tbody tr th {\n",
       "        vertical-align: top;\n",
       "    }\n",
       "\n",
       "    .dataframe thead th {\n",
       "        text-align: right;\n",
       "    }\n",
       "</style>\n",
       "<table border=\"1\" class=\"dataframe\">\n",
       "  <thead>\n",
       "    <tr style=\"text-align: right;\">\n",
       "      <th></th>\n",
       "      <th>Residence_city</th>\n",
       "      <th>Socioeconomic_level</th>\n",
       "      <th>Civil_status</th>\n",
       "      <th>Age</th>\n",
       "      <th>State</th>\n",
       "      <th>Province</th>\n",
       "      <th>Vulnerable_group</th>\n",
       "      <th>Desired_program</th>\n",
       "      <th>Family_income</th>\n",
       "      <th>Father_level</th>\n",
       "      <th>Mother_level</th>\n",
       "      <th>STEM_subjects</th>\n",
       "      <th>H_subjects</th>\n",
       "      <th>Dropout</th>\n",
       "    </tr>\n",
       "  </thead>\n",
       "  <tbody>\n",
       "    <tr>\n",
       "      <th>0</th>\n",
       "      <td>LOCAL</td>\n",
       "      <td>2</td>\n",
       "      <td>Married</td>\n",
       "      <td>36</td>\n",
       "      <td>LOCAL</td>\n",
       "      <td>LOCAL</td>\n",
       "      <td>2</td>\n",
       "      <td>UNSPECIFIED</td>\n",
       "      <td>1200000</td>\n",
       "      <td>HIGH SCHOOL</td>\n",
       "      <td>HIGH SCHOOL</td>\n",
       "      <td>46.7</td>\n",
       "      <td>51.5</td>\n",
       "      <td>YES</td>\n",
       "    </tr>\n",
       "    <tr>\n",
       "      <th>1</th>\n",
       "      <td>LOCAL</td>\n",
       "      <td>2</td>\n",
       "      <td>Unmarried</td>\n",
       "      <td>38</td>\n",
       "      <td>LOCAL</td>\n",
       "      <td>LOCAL</td>\n",
       "      <td>2</td>\n",
       "      <td>UNSPECIFIED</td>\n",
       "      <td>4500000</td>\n",
       "      <td>HIGH SCHOOL</td>\n",
       "      <td>HIGH SCHOOL</td>\n",
       "      <td>43.0</td>\n",
       "      <td>45.2</td>\n",
       "      <td>YES</td>\n",
       "    </tr>\n",
       "    <tr>\n",
       "      <th>2</th>\n",
       "      <td>LOCAL</td>\n",
       "      <td>2</td>\n",
       "      <td>Unmarried</td>\n",
       "      <td>33</td>\n",
       "      <td>LOCAL</td>\n",
       "      <td>NEIGHBOR</td>\n",
       "      <td>2</td>\n",
       "      <td>UNSPECIFIED</td>\n",
       "      <td>1800000</td>\n",
       "      <td>HIGH SCHOOL</td>\n",
       "      <td>UNDERGRADUATE</td>\n",
       "      <td>42.5</td>\n",
       "      <td>49.8</td>\n",
       "      <td>NO</td>\n",
       "    </tr>\n",
       "    <tr>\n",
       "      <th>3</th>\n",
       "      <td>LOCAL</td>\n",
       "      <td>3</td>\n",
       "      <td>Unmarried</td>\n",
       "      <td>27</td>\n",
       "      <td>LOCAL</td>\n",
       "      <td>LOCAL</td>\n",
       "      <td>2</td>\n",
       "      <td>UNSPECIFIED</td>\n",
       "      <td>5000000</td>\n",
       "      <td>HIGH SCHOOL</td>\n",
       "      <td>TECHNOLOGIST</td>\n",
       "      <td>45.9</td>\n",
       "      <td>42.1</td>\n",
       "      <td>YES</td>\n",
       "    </tr>\n",
       "    <tr>\n",
       "      <th>4</th>\n",
       "      <td>LOCAL</td>\n",
       "      <td>3</td>\n",
       "      <td>Unmarried</td>\n",
       "      <td>30</td>\n",
       "      <td>LOCAL</td>\n",
       "      <td>LOCAL</td>\n",
       "      <td>2</td>\n",
       "      <td>UNSPECIFIED</td>\n",
       "      <td>1500000</td>\n",
       "      <td>HIGH SCHOOL</td>\n",
       "      <td>HIGH SCHOOL</td>\n",
       "      <td>45.3</td>\n",
       "      <td>47.8</td>\n",
       "      <td>YES</td>\n",
       "    </tr>\n",
       "  </tbody>\n",
       "</table>\n",
       "</div>"
      ],
      "text/plain": [
       "  Residence_city  Socioeconomic_level Civil_status  Age  State  Province  \\\n",
       "0          LOCAL                    2      Married   36  LOCAL     LOCAL   \n",
       "1          LOCAL                    2    Unmarried   38  LOCAL     LOCAL   \n",
       "2          LOCAL                    2    Unmarried   33  LOCAL  NEIGHBOR   \n",
       "3          LOCAL                    3    Unmarried   27  LOCAL     LOCAL   \n",
       "4          LOCAL                    3    Unmarried   30  LOCAL     LOCAL   \n",
       "\n",
       "   Vulnerable_group Desired_program  Family_income Father_level  \\\n",
       "0                 2     UNSPECIFIED        1200000  HIGH SCHOOL   \n",
       "1                 2     UNSPECIFIED        4500000  HIGH SCHOOL   \n",
       "2                 2     UNSPECIFIED        1800000  HIGH SCHOOL   \n",
       "3                 2     UNSPECIFIED        5000000  HIGH SCHOOL   \n",
       "4                 2     UNSPECIFIED        1500000  HIGH SCHOOL   \n",
       "\n",
       "    Mother_level  STEM_subjects  H_subjects Dropout  \n",
       "0    HIGH SCHOOL           46.7        51.5     YES  \n",
       "1    HIGH SCHOOL           43.0        45.2     YES  \n",
       "2  UNDERGRADUATE           42.5        49.8      NO  \n",
       "3   TECHNOLOGIST           45.9        42.1     YES  \n",
       "4    HIGH SCHOOL           45.3        47.8     YES  "
      ]
     },
     "execution_count": 9,
     "metadata": {},
     "output_type": "execute_result"
    }
   ],
   "source": [
    "df = pd.read_csv(\"rulesDataset.csv\")\n",
    "df.head()"
   ]
  },
  {
   "cell_type": "code",
   "execution_count": 3,
   "metadata": {},
   "outputs": [
    {
     "data": {
      "text/plain": [
       "Index(['Residence_city', 'Socioeconomic_level', 'Civil_status', 'Age', 'State',\n",
       "       'Province', 'Vulnerable_group', 'Desired_program', 'Family_income',\n",
       "       'Father_level', 'Mother_level', 'STEM_subjects', 'H_subjects',\n",
       "       'Dropout'],\n",
       "      dtype='object')"
      ]
     },
     "execution_count": 3,
     "metadata": {},
     "output_type": "execute_result"
    }
   ],
   "source": [
    "df.columns"
   ]
  },
  {
   "cell_type": "code",
   "execution_count": 4,
   "metadata": {},
   "outputs": [
    {
     "data": {
      "text/plain": [
       "(274, 14)"
      ]
     },
     "execution_count": 4,
     "metadata": {},
     "output_type": "execute_result"
    }
   ],
   "source": [
    "df.shape"
   ]
  },
  {
   "cell_type": "code",
   "execution_count": 5,
   "metadata": {},
   "outputs": [
    {
     "name": "stdout",
     "output_type": "stream",
     "text": [
      "<class 'pandas.core.frame.DataFrame'>\n",
      "RangeIndex: 274 entries, 0 to 273\n",
      "Data columns (total 14 columns):\n",
      " #   Column               Non-Null Count  Dtype  \n",
      "---  ------               --------------  -----  \n",
      " 0   Residence_city       274 non-null    object \n",
      " 1   Socioeconomic_level  274 non-null    int64  \n",
      " 2   Civil_status         274 non-null    object \n",
      " 3   Age                  274 non-null    int64  \n",
      " 4   State                274 non-null    object \n",
      " 5   Province             274 non-null    object \n",
      " 6   Vulnerable_group     274 non-null    int64  \n",
      " 7   Desired_program      274 non-null    object \n",
      " 8   Family_income        274 non-null    int64  \n",
      " 9   Father_level         274 non-null    object \n",
      " 10  Mother_level         274 non-null    object \n",
      " 11  STEM_subjects        274 non-null    float64\n",
      " 12  H_subjects           274 non-null    float64\n",
      " 13  Dropout              274 non-null    object \n",
      "dtypes: float64(2), int64(4), object(8)\n",
      "memory usage: 30.1+ KB\n"
     ]
    }
   ],
   "source": [
    "df.info()"
   ]
  },
  {
   "cell_type": "code",
   "execution_count": 6,
   "metadata": {},
   "outputs": [
    {
     "data": {
      "text/plain": [
       "<matplotlib.axes._subplots.AxesSubplot at 0x206f39db088>"
      ]
     },
     "execution_count": 6,
     "metadata": {},
     "output_type": "execute_result"
    }
   ],
   "source": [
    "df.Dropout.value_counts(normalize=True).plot(kind=\"bar\")"
   ]
  },
  {
   "cell_type": "code",
   "execution_count": 7,
   "metadata": {},
   "outputs": [
    {
     "data": {
      "text/plain": [
       "LOCAL       253\n",
       "NEIGHBOR     17\n",
       "FOREIGN       4\n",
       "Name: Residence_city, dtype: int64"
      ]
     },
     "execution_count": 7,
     "metadata": {},
     "output_type": "execute_result"
    }
   ],
   "source": [
    "df.Residence_city.value_counts()"
   ]
  },
  {
   "cell_type": "code",
   "execution_count": 8,
   "metadata": {},
   "outputs": [
    {
     "data": {
      "text/plain": [
       "1    253\n",
       "2     17\n",
       "3      4\n",
       "Name: Residence_city, dtype: int64"
      ]
     },
     "execution_count": 8,
     "metadata": {},
     "output_type": "execute_result"
    }
   ],
   "source": [
    "res_list={'LOCAL':1,'NEIGHBOR':2,'FOREIGN':3}\n",
    "df.Residence_city=[res_list[item]for item in df.Residence_city]\n",
    "df.Residence_city.value_counts()"
   ]
  },
  {
   "cell_type": "code",
   "execution_count": 6,
   "metadata": {},
   "outputs": [
    {
     "data": {
      "text/plain": [
       "2    95\n",
       "3    76\n",
       "1    75\n",
       "4    26\n",
       "6     1\n",
       "5     1\n",
       "Name: Socioeconomic_level, dtype: int64"
      ]
     },
     "execution_count": 6,
     "metadata": {},
     "output_type": "execute_result"
    }
   ],
   "source": [
    "df.Socioeconomic_level.value_counts()"
   ]
  },
  {
   "cell_type": "code",
   "execution_count": 7,
   "metadata": {},
   "outputs": [
    {
     "data": {
      "text/plain": [
       "Unmarried     263\n",
       "Married         5\n",
       "Free union      5\n",
       "Separated       1\n",
       "Name: Civil_status, dtype: int64"
      ]
     },
     "execution_count": 7,
     "metadata": {},
     "output_type": "execute_result"
    }
   ],
   "source": [
    "df.Civil_status.value_counts()"
   ]
  },
  {
   "cell_type": "code",
   "execution_count": 8,
   "metadata": {},
   "outputs": [
    {
     "data": {
      "text/plain": [
       "1    263\n",
       "2      5\n",
       "3      5\n",
       "4      1\n",
       "Name: Civil_status, dtype: int64"
      ]
     },
     "execution_count": 8,
     "metadata": {},
     "output_type": "execute_result"
    }
   ],
   "source": [
    "civil_list={'Unmarried':1,'Married':2,'Free union':3,'Separated':4}\n",
    "df.Civil_status=[civil_list[item]for item in df.Civil_status]\n",
    "df.Civil_status.value_counts()"
   ]
  },
  {
   "cell_type": "code",
   "execution_count": 9,
   "metadata": {},
   "outputs": [
    {
     "data": {
      "text/plain": [
       "LOCAL       250\n",
       "NEIGHBOR     15\n",
       "FOREIGN       9\n",
       "Name: State, dtype: int64"
      ]
     },
     "execution_count": 9,
     "metadata": {},
     "output_type": "execute_result"
    }
   ],
   "source": [
    "df.State.value_counts()"
   ]
  },
  {
   "cell_type": "code",
   "execution_count": 10,
   "metadata": {},
   "outputs": [
    {
     "data": {
      "text/plain": [
       "1    250\n",
       "2     15\n",
       "3      9\n",
       "Name: State, dtype: int64"
      ]
     },
     "execution_count": 10,
     "metadata": {},
     "output_type": "execute_result"
    }
   ],
   "source": [
    "state_list={'LOCAL':1,'NEIGHBOR':2,'FOREIGN':3}\n",
    "df.State=[state_list[item]for item in df.State]\n",
    "df.State.value_counts()"
   ]
  },
  {
   "cell_type": "code",
   "execution_count": 11,
   "metadata": {},
   "outputs": [
    {
     "data": {
      "text/plain": [
       "LOCAL       195\n",
       "NEIGHBOR     55\n",
       "FOREIGN      24\n",
       "Name: Province, dtype: int64"
      ]
     },
     "execution_count": 11,
     "metadata": {},
     "output_type": "execute_result"
    }
   ],
   "source": [
    "df.Province.value_counts()"
   ]
  },
  {
   "cell_type": "code",
   "execution_count": 12,
   "metadata": {},
   "outputs": [
    {
     "data": {
      "text/plain": [
       "1    195\n",
       "2     55\n",
       "3     24\n",
       "Name: Province, dtype: int64"
      ]
     },
     "execution_count": 12,
     "metadata": {},
     "output_type": "execute_result"
    }
   ],
   "source": [
    "prov_list={'LOCAL':1,'NEIGHBOR':2,'FOREIGN':3}\n",
    "df.Province=[prov_list[item]for item in df.Province]\n",
    "df.Province.value_counts()"
   ]
  },
  {
   "cell_type": "code",
   "execution_count": 13,
   "metadata": {},
   "outputs": [
    {
     "data": {
      "text/plain": [
       "UNSPECIFIED                         237\n",
       "INFORMATIC ENGINEERING               34\n",
       "ELECTRONIC AUTOMATION TECHNOLOGY      3\n",
       "Name: Desired_program, dtype: int64"
      ]
     },
     "execution_count": 13,
     "metadata": {},
     "output_type": "execute_result"
    }
   ],
   "source": [
    "df.Desired_program.value_counts()"
   ]
  },
  {
   "cell_type": "code",
   "execution_count": 14,
   "metadata": {},
   "outputs": [
    {
     "data": {
      "text/plain": [
       "1    237\n",
       "2     34\n",
       "3      3\n",
       "Name: Desired_program, dtype: int64"
      ]
     },
     "execution_count": 14,
     "metadata": {},
     "output_type": "execute_result"
    }
   ],
   "source": [
    "des_list={'UNSPECIFIED':1,'INFORMATIC ENGINEERING':2,'ELECTRONIC AUTOMATION TECHNOLOGY':3}\n",
    "df.Desired_program=[des_list[item]for item in df.Desired_program]\n",
    "df.Desired_program.value_counts()"
   ]
  },
  {
   "cell_type": "code",
   "execution_count": 15,
   "metadata": {},
   "outputs": [
    {
     "data": {
      "text/plain": [
       "UNDERGRADUATE     78\n",
       "HIGH SCHOOL       73\n",
       "PRIMARY SCHOOL    72\n",
       "TECHNICAL         41\n",
       "TECHNOLOGIST       9\n",
       "UNREGISTERED       1\n",
       "Name: Father_level, dtype: int64"
      ]
     },
     "execution_count": 15,
     "metadata": {},
     "output_type": "execute_result"
    }
   ],
   "source": [
    "df.Father_level.value_counts()"
   ]
  },
  {
   "cell_type": "code",
   "execution_count": 16,
   "metadata": {},
   "outputs": [
    {
     "data": {
      "text/plain": [
       "1    78\n",
       "2    73\n",
       "3    72\n",
       "4    41\n",
       "5     9\n",
       "6     1\n",
       "Name: Father_level, dtype: int64"
      ]
     },
     "execution_count": 16,
     "metadata": {},
     "output_type": "execute_result"
    }
   ],
   "source": [
    "fat_list={'UNDERGRADUATE':1,'HIGH SCHOOL':2,'PRIMARY SCHOOL':3,'TECHNICAL':4,'TECHNOLOGIST':5,'UNREGISTERED':6}\n",
    "df.Father_level=[fat_list[item]for item in df.Father_level]\n",
    "df.Father_level.value_counts()"
   ]
  },
  {
   "cell_type": "code",
   "execution_count": 17,
   "metadata": {},
   "outputs": [
    {
     "data": {
      "text/plain": [
       "HIGH SCHOOL       86\n",
       "UNDERGRADUATE     79\n",
       "PRIMARY SCHOOL    55\n",
       "TECHNICAL         43\n",
       "TECHNOLOGIST      10\n",
       "UNREGISTERED       1\n",
       "Name: Mother_level, dtype: int64"
      ]
     },
     "execution_count": 17,
     "metadata": {},
     "output_type": "execute_result"
    }
   ],
   "source": [
    "df.Mother_level.value_counts()"
   ]
  },
  {
   "cell_type": "code",
   "execution_count": 18,
   "metadata": {},
   "outputs": [
    {
     "data": {
      "text/plain": [
       "2    86\n",
       "1    79\n",
       "3    55\n",
       "4    43\n",
       "5    10\n",
       "6     1\n",
       "Name: Mother_level, dtype: int64"
      ]
     },
     "execution_count": 18,
     "metadata": {},
     "output_type": "execute_result"
    }
   ],
   "source": [
    "mot_list={'UNDERGRADUATE':1,'HIGH SCHOOL':2,'PRIMARY SCHOOL':3,'TECHNICAL':4,'TECHNOLOGIST':5,'UNREGISTERED':6}\n",
    "df.Mother_level=[mot_list[item]for item in df.Mother_level]\n",
    "df.Mother_level.value_counts()"
   ]
  },
  {
   "cell_type": "code",
   "execution_count": 19,
   "metadata": {},
   "outputs": [
    {
     "data": {
      "text/plain": [
       "NO     146\n",
       "YES    128\n",
       "Name: Dropout, dtype: int64"
      ]
     },
     "execution_count": 19,
     "metadata": {},
     "output_type": "execute_result"
    }
   ],
   "source": [
    "df.Dropout.value_counts()"
   ]
  },
  {
   "cell_type": "code",
   "execution_count": 20,
   "metadata": {},
   "outputs": [
    {
     "data": {
      "text/plain": [
       "1    146\n",
       "2    128\n",
       "Name: Dropout, dtype: int64"
      ]
     },
     "execution_count": 20,
     "metadata": {},
     "output_type": "execute_result"
    }
   ],
   "source": [
    "drop_list={'NO':0,'YES':1}\n",
    "df.Dropout=[drop_list[item]for item in df.Dropout]\n",
    "df.Dropout.value_counts()"
   ]
  },
  {
   "cell_type": "code",
   "execution_count": 21,
   "metadata": {},
   "outputs": [
    {
     "name": "stdout",
     "output_type": "stream",
     "text": [
      "<class 'pandas.core.frame.DataFrame'>\n",
      "RangeIndex: 274 entries, 0 to 273\n",
      "Data columns (total 14 columns):\n",
      " #   Column               Non-Null Count  Dtype  \n",
      "---  ------               --------------  -----  \n",
      " 0   Residence_city       274 non-null    int64  \n",
      " 1   Socioeconomic_level  274 non-null    int64  \n",
      " 2   Civil_status         274 non-null    int64  \n",
      " 3   Age                  274 non-null    int64  \n",
      " 4   State                274 non-null    int64  \n",
      " 5   Province             274 non-null    int64  \n",
      " 6   Vulnerable_group     274 non-null    int64  \n",
      " 7   Desired_program      274 non-null    int64  \n",
      " 8   Family_income        274 non-null    int64  \n",
      " 9   Father_level         274 non-null    int64  \n",
      " 10  Mother_level         274 non-null    int64  \n",
      " 11  STEM_subjects        274 non-null    float64\n",
      " 12  H_subjects           274 non-null    float64\n",
      " 13  Dropout              274 non-null    int64  \n",
      "dtypes: float64(2), int64(12)\n",
      "memory usage: 30.1 KB\n"
     ]
    }
   ],
   "source": [
    "df.info()"
   ]
  },
  {
   "cell_type": "code",
   "execution_count": 22,
   "metadata": {},
   "outputs": [
    {
     "data": {
      "text/plain": [
       "Residence_city         0.247333\n",
       "Socioeconomic_level   -0.155874\n",
       "Civil_status          -0.029777\n",
       "Age                    0.063390\n",
       "State                  0.063283\n",
       "Province               0.021520\n",
       "Vulnerable_group      -0.044372\n",
       "Desired_program       -0.127752\n",
       "Family_income         -0.041973\n",
       "Father_level           0.050505\n",
       "Mother_level           0.094329\n",
       "STEM_subjects         -0.250015\n",
       "H_subjects            -0.158715\n",
       "Dropout                1.000000\n",
       "Name: Dropout, dtype: float64"
      ]
     },
     "execution_count": 22,
     "metadata": {},
     "output_type": "execute_result"
    }
   ],
   "source": [
    "lis_corr=df[df.columns].corr()['Dropout'][:]\n",
    "lis_corr"
   ]
  },
  {
   "cell_type": "code",
   "execution_count": 23,
   "metadata": {},
   "outputs": [
    {
     "name": "stdout",
     "output_type": "stream",
     "text": [
      "(274, 13)\n",
      "(274,)\n"
     ]
    }
   ],
   "source": [
    "X = df.drop('Dropout', axis = 1)\n",
    "y = df['Dropout']\n",
    "print(X.shape)\n",
    "print(y.shape)"
   ]
  },
  {
   "cell_type": "code",
   "execution_count": 24,
   "metadata": {},
   "outputs": [
    {
     "data": {
      "text/plain": [
       "RandomForestClassifier()"
      ]
     },
     "execution_count": 24,
     "metadata": {},
     "output_type": "execute_result"
    }
   ],
   "source": [
    "from sklearn.ensemble import RandomForestClassifier\n",
    "rdc=RandomForestClassifier()\n",
    "\n",
    "rdc.fit(X,y)"
   ]
  },
  {
   "cell_type": "code",
   "execution_count": 25,
   "metadata": {},
   "outputs": [],
   "source": [
    "ypred=rdc.predict(X)"
   ]
  },
  {
   "cell_type": "code",
   "execution_count": 27,
   "metadata": {},
   "outputs": [
    {
     "data": {
      "text/html": [
       "<div>\n",
       "<style scoped>\n",
       "    .dataframe tbody tr th:only-of-type {\n",
       "        vertical-align: middle;\n",
       "    }\n",
       "\n",
       "    .dataframe tbody tr th {\n",
       "        vertical-align: top;\n",
       "    }\n",
       "\n",
       "    .dataframe thead th {\n",
       "        text-align: right;\n",
       "    }\n",
       "</style>\n",
       "<table border=\"1\" class=\"dataframe\">\n",
       "  <thead>\n",
       "    <tr style=\"text-align: right;\">\n",
       "      <th></th>\n",
       "      <th>Residence_city</th>\n",
       "      <th>Socioeconomic_level</th>\n",
       "      <th>Civil_status</th>\n",
       "      <th>Age</th>\n",
       "      <th>State</th>\n",
       "      <th>Province</th>\n",
       "      <th>Vulnerable_group</th>\n",
       "      <th>Desired_program</th>\n",
       "      <th>Family_income</th>\n",
       "      <th>Father_level</th>\n",
       "      <th>Mother_level</th>\n",
       "      <th>STEM_subjects</th>\n",
       "      <th>H_subjects</th>\n",
       "    </tr>\n",
       "  </thead>\n",
       "  <tbody>\n",
       "    <tr>\n",
       "      <th>0</th>\n",
       "      <td>1</td>\n",
       "      <td>2</td>\n",
       "      <td>2</td>\n",
       "      <td>36</td>\n",
       "      <td>1</td>\n",
       "      <td>1</td>\n",
       "      <td>2</td>\n",
       "      <td>1</td>\n",
       "      <td>1200000</td>\n",
       "      <td>2</td>\n",
       "      <td>2</td>\n",
       "      <td>46.7</td>\n",
       "      <td>51.5</td>\n",
       "    </tr>\n",
       "    <tr>\n",
       "      <th>1</th>\n",
       "      <td>1</td>\n",
       "      <td>2</td>\n",
       "      <td>1</td>\n",
       "      <td>38</td>\n",
       "      <td>1</td>\n",
       "      <td>1</td>\n",
       "      <td>2</td>\n",
       "      <td>1</td>\n",
       "      <td>4500000</td>\n",
       "      <td>2</td>\n",
       "      <td>2</td>\n",
       "      <td>43.0</td>\n",
       "      <td>45.2</td>\n",
       "    </tr>\n",
       "    <tr>\n",
       "      <th>2</th>\n",
       "      <td>1</td>\n",
       "      <td>2</td>\n",
       "      <td>1</td>\n",
       "      <td>33</td>\n",
       "      <td>1</td>\n",
       "      <td>2</td>\n",
       "      <td>2</td>\n",
       "      <td>1</td>\n",
       "      <td>1800000</td>\n",
       "      <td>2</td>\n",
       "      <td>1</td>\n",
       "      <td>42.5</td>\n",
       "      <td>49.8</td>\n",
       "    </tr>\n",
       "    <tr>\n",
       "      <th>3</th>\n",
       "      <td>1</td>\n",
       "      <td>3</td>\n",
       "      <td>1</td>\n",
       "      <td>27</td>\n",
       "      <td>1</td>\n",
       "      <td>1</td>\n",
       "      <td>2</td>\n",
       "      <td>1</td>\n",
       "      <td>5000000</td>\n",
       "      <td>2</td>\n",
       "      <td>5</td>\n",
       "      <td>45.9</td>\n",
       "      <td>42.1</td>\n",
       "    </tr>\n",
       "    <tr>\n",
       "      <th>4</th>\n",
       "      <td>1</td>\n",
       "      <td>3</td>\n",
       "      <td>1</td>\n",
       "      <td>30</td>\n",
       "      <td>1</td>\n",
       "      <td>1</td>\n",
       "      <td>2</td>\n",
       "      <td>1</td>\n",
       "      <td>1500000</td>\n",
       "      <td>2</td>\n",
       "      <td>2</td>\n",
       "      <td>45.3</td>\n",
       "      <td>47.8</td>\n",
       "    </tr>\n",
       "  </tbody>\n",
       "</table>\n",
       "</div>"
      ],
      "text/plain": [
       "   Residence_city  Socioeconomic_level  Civil_status  Age  State  Province  \\\n",
       "0               1                    2             2   36      1         1   \n",
       "1               1                    2             1   38      1         1   \n",
       "2               1                    2             1   33      1         2   \n",
       "3               1                    3             1   27      1         1   \n",
       "4               1                    3             1   30      1         1   \n",
       "\n",
       "   Vulnerable_group  Desired_program  Family_income  Father_level  \\\n",
       "0                 2                1        1200000             2   \n",
       "1                 2                1        4500000             2   \n",
       "2                 2                1        1800000             2   \n",
       "3                 2                1        5000000             2   \n",
       "4                 2                1        1500000             2   \n",
       "\n",
       "   Mother_level  STEM_subjects  H_subjects  \n",
       "0             2           46.7        51.5  \n",
       "1             2           43.0        45.2  \n",
       "2             1           42.5        49.8  \n",
       "3             5           45.9        42.1  \n",
       "4             2           45.3        47.8  "
      ]
     },
     "execution_count": 27,
     "metadata": {},
     "output_type": "execute_result"
    }
   ],
   "source": [
    "X.head()"
   ]
  },
  {
   "cell_type": "code",
   "execution_count": 34,
   "metadata": {},
   "outputs": [
    {
     "name": "stdout",
     "output_type": "stream",
     "text": [
      "[[1, 2, 2, 42, 1, 1, 2, 1, 1200000, 2, 2, 46.7, 51.5]] [2]\n"
     ]
    },
    {
     "name": "stderr",
     "output_type": "stream",
     "text": [
      "c:\\Users\\saurav\\Anaconda3\\lib\\site-packages\\sklearn\\base.py:451: UserWarning: X does not have valid feature names, but RandomForestClassifier was fitted with feature names\n",
      "  \"X does not have valid feature names, but\"\n"
     ]
    }
   ],
   "source": [
    "new_input = [[1,2,2,42,1,1,2,1,1200000,2,2,46.7,51.5]]\n",
    "new_output = rdc.predict(new_input)\n",
    "print(new_input, new_output)"
   ]
  },
  {
   "cell_type": "code",
   "execution_count": 29,
   "metadata": {},
   "outputs": [],
   "source": [
    "import pickle\n",
    "with open('dropout_file.pkl', 'wb') as file:\n",
    "  # dump information to that file\n",
    "  pickle.dump(rdc, file)"
   ]
  },
  {
   "cell_type": "code",
   "execution_count": null,
   "metadata": {},
   "outputs": [],
   "source": [
    "# rdc.predict(new_input)"
   ]
  },
  {
   "cell_type": "markdown",
   "metadata": {},
   "source": [
    "# on-hot encoding model building"
   ]
  },
  {
   "cell_type": "code",
   "execution_count": 10,
   "metadata": {},
   "outputs": [
    {
     "data": {
      "text/html": [
       "<div>\n",
       "<style scoped>\n",
       "    .dataframe tbody tr th:only-of-type {\n",
       "        vertical-align: middle;\n",
       "    }\n",
       "\n",
       "    .dataframe tbody tr th {\n",
       "        vertical-align: top;\n",
       "    }\n",
       "\n",
       "    .dataframe thead th {\n",
       "        text-align: right;\n",
       "    }\n",
       "</style>\n",
       "<table border=\"1\" class=\"dataframe\">\n",
       "  <thead>\n",
       "    <tr style=\"text-align: right;\">\n",
       "      <th></th>\n",
       "      <th>Residence_city</th>\n",
       "      <th>Socioeconomic_level</th>\n",
       "      <th>Civil_status</th>\n",
       "      <th>Age</th>\n",
       "      <th>State</th>\n",
       "      <th>Province</th>\n",
       "      <th>Vulnerable_group</th>\n",
       "      <th>Desired_program</th>\n",
       "      <th>Family_income</th>\n",
       "      <th>Father_level</th>\n",
       "      <th>Mother_level</th>\n",
       "      <th>STEM_subjects</th>\n",
       "      <th>H_subjects</th>\n",
       "      <th>Dropout</th>\n",
       "    </tr>\n",
       "  </thead>\n",
       "  <tbody>\n",
       "    <tr>\n",
       "      <th>0</th>\n",
       "      <td>LOCAL</td>\n",
       "      <td>2</td>\n",
       "      <td>Married</td>\n",
       "      <td>36</td>\n",
       "      <td>LOCAL</td>\n",
       "      <td>LOCAL</td>\n",
       "      <td>2</td>\n",
       "      <td>UNSPECIFIED</td>\n",
       "      <td>1200000</td>\n",
       "      <td>HIGH SCHOOL</td>\n",
       "      <td>HIGH SCHOOL</td>\n",
       "      <td>46.7</td>\n",
       "      <td>51.5</td>\n",
       "      <td>YES</td>\n",
       "    </tr>\n",
       "    <tr>\n",
       "      <th>1</th>\n",
       "      <td>LOCAL</td>\n",
       "      <td>2</td>\n",
       "      <td>Unmarried</td>\n",
       "      <td>38</td>\n",
       "      <td>LOCAL</td>\n",
       "      <td>LOCAL</td>\n",
       "      <td>2</td>\n",
       "      <td>UNSPECIFIED</td>\n",
       "      <td>4500000</td>\n",
       "      <td>HIGH SCHOOL</td>\n",
       "      <td>HIGH SCHOOL</td>\n",
       "      <td>43.0</td>\n",
       "      <td>45.2</td>\n",
       "      <td>YES</td>\n",
       "    </tr>\n",
       "    <tr>\n",
       "      <th>2</th>\n",
       "      <td>LOCAL</td>\n",
       "      <td>2</td>\n",
       "      <td>Unmarried</td>\n",
       "      <td>33</td>\n",
       "      <td>LOCAL</td>\n",
       "      <td>NEIGHBOR</td>\n",
       "      <td>2</td>\n",
       "      <td>UNSPECIFIED</td>\n",
       "      <td>1800000</td>\n",
       "      <td>HIGH SCHOOL</td>\n",
       "      <td>UNDERGRADUATE</td>\n",
       "      <td>42.5</td>\n",
       "      <td>49.8</td>\n",
       "      <td>NO</td>\n",
       "    </tr>\n",
       "    <tr>\n",
       "      <th>3</th>\n",
       "      <td>LOCAL</td>\n",
       "      <td>3</td>\n",
       "      <td>Unmarried</td>\n",
       "      <td>27</td>\n",
       "      <td>LOCAL</td>\n",
       "      <td>LOCAL</td>\n",
       "      <td>2</td>\n",
       "      <td>UNSPECIFIED</td>\n",
       "      <td>5000000</td>\n",
       "      <td>HIGH SCHOOL</td>\n",
       "      <td>TECHNOLOGIST</td>\n",
       "      <td>45.9</td>\n",
       "      <td>42.1</td>\n",
       "      <td>YES</td>\n",
       "    </tr>\n",
       "    <tr>\n",
       "      <th>4</th>\n",
       "      <td>LOCAL</td>\n",
       "      <td>3</td>\n",
       "      <td>Unmarried</td>\n",
       "      <td>30</td>\n",
       "      <td>LOCAL</td>\n",
       "      <td>LOCAL</td>\n",
       "      <td>2</td>\n",
       "      <td>UNSPECIFIED</td>\n",
       "      <td>1500000</td>\n",
       "      <td>HIGH SCHOOL</td>\n",
       "      <td>HIGH SCHOOL</td>\n",
       "      <td>45.3</td>\n",
       "      <td>47.8</td>\n",
       "      <td>YES</td>\n",
       "    </tr>\n",
       "  </tbody>\n",
       "</table>\n",
       "</div>"
      ],
      "text/plain": [
       "  Residence_city  Socioeconomic_level Civil_status  Age  State  Province  \\\n",
       "0          LOCAL                    2      Married   36  LOCAL     LOCAL   \n",
       "1          LOCAL                    2    Unmarried   38  LOCAL     LOCAL   \n",
       "2          LOCAL                    2    Unmarried   33  LOCAL  NEIGHBOR   \n",
       "3          LOCAL                    3    Unmarried   27  LOCAL     LOCAL   \n",
       "4          LOCAL                    3    Unmarried   30  LOCAL     LOCAL   \n",
       "\n",
       "   Vulnerable_group Desired_program  Family_income Father_level  \\\n",
       "0                 2     UNSPECIFIED        1200000  HIGH SCHOOL   \n",
       "1                 2     UNSPECIFIED        4500000  HIGH SCHOOL   \n",
       "2                 2     UNSPECIFIED        1800000  HIGH SCHOOL   \n",
       "3                 2     UNSPECIFIED        5000000  HIGH SCHOOL   \n",
       "4                 2     UNSPECIFIED        1500000  HIGH SCHOOL   \n",
       "\n",
       "    Mother_level  STEM_subjects  H_subjects Dropout  \n",
       "0    HIGH SCHOOL           46.7        51.5     YES  \n",
       "1    HIGH SCHOOL           43.0        45.2     YES  \n",
       "2  UNDERGRADUATE           42.5        49.8      NO  \n",
       "3   TECHNOLOGIST           45.9        42.1     YES  \n",
       "4    HIGH SCHOOL           45.3        47.8     YES  "
      ]
     },
     "execution_count": 10,
     "metadata": {},
     "output_type": "execute_result"
    }
   ],
   "source": [
    "df.head()"
   ]
  },
  {
   "cell_type": "code",
   "execution_count": 11,
   "metadata": {},
   "outputs": [],
   "source": [
    "encode = ['Residence_city','Civil_status','State','Province','Desired_program','Father_level','Mother_level']\n",
    "for col in encode:\n",
    "    dummy = pd.get_dummies(df[col], prefix=col)\n",
    "    df = pd.concat([df,dummy], axis=1)\n",
    "    del df[col]"
   ]
  },
  {
   "cell_type": "code",
   "execution_count": 12,
   "metadata": {},
   "outputs": [
    {
     "data": {
      "text/html": [
       "<div>\n",
       "<style scoped>\n",
       "    .dataframe tbody tr th:only-of-type {\n",
       "        vertical-align: middle;\n",
       "    }\n",
       "\n",
       "    .dataframe tbody tr th {\n",
       "        vertical-align: top;\n",
       "    }\n",
       "\n",
       "    .dataframe thead th {\n",
       "        text-align: right;\n",
       "    }\n",
       "</style>\n",
       "<table border=\"1\" class=\"dataframe\">\n",
       "  <thead>\n",
       "    <tr style=\"text-align: right;\">\n",
       "      <th></th>\n",
       "      <th>Socioeconomic_level</th>\n",
       "      <th>Age</th>\n",
       "      <th>Vulnerable_group</th>\n",
       "      <th>Family_income</th>\n",
       "      <th>STEM_subjects</th>\n",
       "      <th>H_subjects</th>\n",
       "      <th>Dropout</th>\n",
       "      <th>Residence_city_FOREIGN</th>\n",
       "      <th>Residence_city_LOCAL</th>\n",
       "      <th>Residence_city_NEIGHBOR</th>\n",
       "      <th>...</th>\n",
       "      <th>Father_level_TECHNICAL</th>\n",
       "      <th>Father_level_TECHNOLOGIST</th>\n",
       "      <th>Father_level_UNDERGRADUATE</th>\n",
       "      <th>Father_level_UNREGISTERED</th>\n",
       "      <th>Mother_level_HIGH SCHOOL</th>\n",
       "      <th>Mother_level_PRIMARY SCHOOL</th>\n",
       "      <th>Mother_level_TECHNICAL</th>\n",
       "      <th>Mother_level_TECHNOLOGIST</th>\n",
       "      <th>Mother_level_UNDERGRADUATE</th>\n",
       "      <th>Mother_level_UNREGISTERED</th>\n",
       "    </tr>\n",
       "  </thead>\n",
       "  <tbody>\n",
       "    <tr>\n",
       "      <th>0</th>\n",
       "      <td>2</td>\n",
       "      <td>36</td>\n",
       "      <td>2</td>\n",
       "      <td>1200000</td>\n",
       "      <td>46.7</td>\n",
       "      <td>51.5</td>\n",
       "      <td>YES</td>\n",
       "      <td>0</td>\n",
       "      <td>1</td>\n",
       "      <td>0</td>\n",
       "      <td>...</td>\n",
       "      <td>0</td>\n",
       "      <td>0</td>\n",
       "      <td>0</td>\n",
       "      <td>0</td>\n",
       "      <td>1</td>\n",
       "      <td>0</td>\n",
       "      <td>0</td>\n",
       "      <td>0</td>\n",
       "      <td>0</td>\n",
       "      <td>0</td>\n",
       "    </tr>\n",
       "    <tr>\n",
       "      <th>1</th>\n",
       "      <td>2</td>\n",
       "      <td>38</td>\n",
       "      <td>2</td>\n",
       "      <td>4500000</td>\n",
       "      <td>43.0</td>\n",
       "      <td>45.2</td>\n",
       "      <td>YES</td>\n",
       "      <td>0</td>\n",
       "      <td>1</td>\n",
       "      <td>0</td>\n",
       "      <td>...</td>\n",
       "      <td>0</td>\n",
       "      <td>0</td>\n",
       "      <td>0</td>\n",
       "      <td>0</td>\n",
       "      <td>1</td>\n",
       "      <td>0</td>\n",
       "      <td>0</td>\n",
       "      <td>0</td>\n",
       "      <td>0</td>\n",
       "      <td>0</td>\n",
       "    </tr>\n",
       "    <tr>\n",
       "      <th>2</th>\n",
       "      <td>2</td>\n",
       "      <td>33</td>\n",
       "      <td>2</td>\n",
       "      <td>1800000</td>\n",
       "      <td>42.5</td>\n",
       "      <td>49.8</td>\n",
       "      <td>NO</td>\n",
       "      <td>0</td>\n",
       "      <td>1</td>\n",
       "      <td>0</td>\n",
       "      <td>...</td>\n",
       "      <td>0</td>\n",
       "      <td>0</td>\n",
       "      <td>0</td>\n",
       "      <td>0</td>\n",
       "      <td>0</td>\n",
       "      <td>0</td>\n",
       "      <td>0</td>\n",
       "      <td>0</td>\n",
       "      <td>1</td>\n",
       "      <td>0</td>\n",
       "    </tr>\n",
       "    <tr>\n",
       "      <th>3</th>\n",
       "      <td>3</td>\n",
       "      <td>27</td>\n",
       "      <td>2</td>\n",
       "      <td>5000000</td>\n",
       "      <td>45.9</td>\n",
       "      <td>42.1</td>\n",
       "      <td>YES</td>\n",
       "      <td>0</td>\n",
       "      <td>1</td>\n",
       "      <td>0</td>\n",
       "      <td>...</td>\n",
       "      <td>0</td>\n",
       "      <td>0</td>\n",
       "      <td>0</td>\n",
       "      <td>0</td>\n",
       "      <td>0</td>\n",
       "      <td>0</td>\n",
       "      <td>0</td>\n",
       "      <td>1</td>\n",
       "      <td>0</td>\n",
       "      <td>0</td>\n",
       "    </tr>\n",
       "    <tr>\n",
       "      <th>4</th>\n",
       "      <td>3</td>\n",
       "      <td>30</td>\n",
       "      <td>2</td>\n",
       "      <td>1500000</td>\n",
       "      <td>45.3</td>\n",
       "      <td>47.8</td>\n",
       "      <td>YES</td>\n",
       "      <td>0</td>\n",
       "      <td>1</td>\n",
       "      <td>0</td>\n",
       "      <td>...</td>\n",
       "      <td>0</td>\n",
       "      <td>0</td>\n",
       "      <td>0</td>\n",
       "      <td>0</td>\n",
       "      <td>1</td>\n",
       "      <td>0</td>\n",
       "      <td>0</td>\n",
       "      <td>0</td>\n",
       "      <td>0</td>\n",
       "      <td>0</td>\n",
       "    </tr>\n",
       "    <tr>\n",
       "      <th>...</th>\n",
       "      <td>...</td>\n",
       "      <td>...</td>\n",
       "      <td>...</td>\n",
       "      <td>...</td>\n",
       "      <td>...</td>\n",
       "      <td>...</td>\n",
       "      <td>...</td>\n",
       "      <td>...</td>\n",
       "      <td>...</td>\n",
       "      <td>...</td>\n",
       "      <td>...</td>\n",
       "      <td>...</td>\n",
       "      <td>...</td>\n",
       "      <td>...</td>\n",
       "      <td>...</td>\n",
       "      <td>...</td>\n",
       "      <td>...</td>\n",
       "      <td>...</td>\n",
       "      <td>...</td>\n",
       "      <td>...</td>\n",
       "      <td>...</td>\n",
       "    </tr>\n",
       "    <tr>\n",
       "      <th>269</th>\n",
       "      <td>3</td>\n",
       "      <td>22</td>\n",
       "      <td>2</td>\n",
       "      <td>1500000</td>\n",
       "      <td>45.0</td>\n",
       "      <td>43.8</td>\n",
       "      <td>NO</td>\n",
       "      <td>0</td>\n",
       "      <td>1</td>\n",
       "      <td>0</td>\n",
       "      <td>...</td>\n",
       "      <td>0</td>\n",
       "      <td>0</td>\n",
       "      <td>1</td>\n",
       "      <td>0</td>\n",
       "      <td>0</td>\n",
       "      <td>0</td>\n",
       "      <td>0</td>\n",
       "      <td>0</td>\n",
       "      <td>1</td>\n",
       "      <td>0</td>\n",
       "    </tr>\n",
       "    <tr>\n",
       "      <th>270</th>\n",
       "      <td>1</td>\n",
       "      <td>22</td>\n",
       "      <td>2</td>\n",
       "      <td>3000000</td>\n",
       "      <td>57.8</td>\n",
       "      <td>37.0</td>\n",
       "      <td>YES</td>\n",
       "      <td>0</td>\n",
       "      <td>1</td>\n",
       "      <td>0</td>\n",
       "      <td>...</td>\n",
       "      <td>0</td>\n",
       "      <td>0</td>\n",
       "      <td>1</td>\n",
       "      <td>0</td>\n",
       "      <td>0</td>\n",
       "      <td>0</td>\n",
       "      <td>1</td>\n",
       "      <td>0</td>\n",
       "      <td>0</td>\n",
       "      <td>0</td>\n",
       "    </tr>\n",
       "    <tr>\n",
       "      <th>271</th>\n",
       "      <td>3</td>\n",
       "      <td>21</td>\n",
       "      <td>2</td>\n",
       "      <td>2000000</td>\n",
       "      <td>55.8</td>\n",
       "      <td>41.3</td>\n",
       "      <td>NO</td>\n",
       "      <td>0</td>\n",
       "      <td>1</td>\n",
       "      <td>0</td>\n",
       "      <td>...</td>\n",
       "      <td>0</td>\n",
       "      <td>0</td>\n",
       "      <td>1</td>\n",
       "      <td>0</td>\n",
       "      <td>0</td>\n",
       "      <td>0</td>\n",
       "      <td>0</td>\n",
       "      <td>0</td>\n",
       "      <td>1</td>\n",
       "      <td>0</td>\n",
       "    </tr>\n",
       "    <tr>\n",
       "      <th>272</th>\n",
       "      <td>3</td>\n",
       "      <td>21</td>\n",
       "      <td>2</td>\n",
       "      <td>4000000</td>\n",
       "      <td>64.3</td>\n",
       "      <td>66.8</td>\n",
       "      <td>YES</td>\n",
       "      <td>0</td>\n",
       "      <td>1</td>\n",
       "      <td>0</td>\n",
       "      <td>...</td>\n",
       "      <td>0</td>\n",
       "      <td>0</td>\n",
       "      <td>1</td>\n",
       "      <td>0</td>\n",
       "      <td>0</td>\n",
       "      <td>0</td>\n",
       "      <td>0</td>\n",
       "      <td>0</td>\n",
       "      <td>1</td>\n",
       "      <td>0</td>\n",
       "    </tr>\n",
       "    <tr>\n",
       "      <th>273</th>\n",
       "      <td>1</td>\n",
       "      <td>26</td>\n",
       "      <td>2</td>\n",
       "      <td>0</td>\n",
       "      <td>44.9</td>\n",
       "      <td>43.5</td>\n",
       "      <td>YES</td>\n",
       "      <td>0</td>\n",
       "      <td>1</td>\n",
       "      <td>0</td>\n",
       "      <td>...</td>\n",
       "      <td>0</td>\n",
       "      <td>0</td>\n",
       "      <td>0</td>\n",
       "      <td>1</td>\n",
       "      <td>0</td>\n",
       "      <td>0</td>\n",
       "      <td>0</td>\n",
       "      <td>0</td>\n",
       "      <td>0</td>\n",
       "      <td>1</td>\n",
       "    </tr>\n",
       "  </tbody>\n",
       "</table>\n",
       "<p>274 rows × 35 columns</p>\n",
       "</div>"
      ],
      "text/plain": [
       "     Socioeconomic_level  Age  Vulnerable_group  Family_income  STEM_subjects  \\\n",
       "0                      2   36                 2        1200000           46.7   \n",
       "1                      2   38                 2        4500000           43.0   \n",
       "2                      2   33                 2        1800000           42.5   \n",
       "3                      3   27                 2        5000000           45.9   \n",
       "4                      3   30                 2        1500000           45.3   \n",
       "..                   ...  ...               ...            ...            ...   \n",
       "269                    3   22                 2        1500000           45.0   \n",
       "270                    1   22                 2        3000000           57.8   \n",
       "271                    3   21                 2        2000000           55.8   \n",
       "272                    3   21                 2        4000000           64.3   \n",
       "273                    1   26                 2              0           44.9   \n",
       "\n",
       "     H_subjects Dropout  Residence_city_FOREIGN  Residence_city_LOCAL  \\\n",
       "0          51.5     YES                       0                     1   \n",
       "1          45.2     YES                       0                     1   \n",
       "2          49.8      NO                       0                     1   \n",
       "3          42.1     YES                       0                     1   \n",
       "4          47.8     YES                       0                     1   \n",
       "..          ...     ...                     ...                   ...   \n",
       "269        43.8      NO                       0                     1   \n",
       "270        37.0     YES                       0                     1   \n",
       "271        41.3      NO                       0                     1   \n",
       "272        66.8     YES                       0                     1   \n",
       "273        43.5     YES                       0                     1   \n",
       "\n",
       "     Residence_city_NEIGHBOR  ...  Father_level_TECHNICAL  \\\n",
       "0                          0  ...                       0   \n",
       "1                          0  ...                       0   \n",
       "2                          0  ...                       0   \n",
       "3                          0  ...                       0   \n",
       "4                          0  ...                       0   \n",
       "..                       ...  ...                     ...   \n",
       "269                        0  ...                       0   \n",
       "270                        0  ...                       0   \n",
       "271                        0  ...                       0   \n",
       "272                        0  ...                       0   \n",
       "273                        0  ...                       0   \n",
       "\n",
       "     Father_level_TECHNOLOGIST  Father_level_UNDERGRADUATE  \\\n",
       "0                            0                           0   \n",
       "1                            0                           0   \n",
       "2                            0                           0   \n",
       "3                            0                           0   \n",
       "4                            0                           0   \n",
       "..                         ...                         ...   \n",
       "269                          0                           1   \n",
       "270                          0                           1   \n",
       "271                          0                           1   \n",
       "272                          0                           1   \n",
       "273                          0                           0   \n",
       "\n",
       "     Father_level_UNREGISTERED  Mother_level_HIGH SCHOOL  \\\n",
       "0                            0                         1   \n",
       "1                            0                         1   \n",
       "2                            0                         0   \n",
       "3                            0                         0   \n",
       "4                            0                         1   \n",
       "..                         ...                       ...   \n",
       "269                          0                         0   \n",
       "270                          0                         0   \n",
       "271                          0                         0   \n",
       "272                          0                         0   \n",
       "273                          1                         0   \n",
       "\n",
       "     Mother_level_PRIMARY SCHOOL  Mother_level_TECHNICAL  \\\n",
       "0                              0                       0   \n",
       "1                              0                       0   \n",
       "2                              0                       0   \n",
       "3                              0                       0   \n",
       "4                              0                       0   \n",
       "..                           ...                     ...   \n",
       "269                            0                       0   \n",
       "270                            0                       1   \n",
       "271                            0                       0   \n",
       "272                            0                       0   \n",
       "273                            0                       0   \n",
       "\n",
       "     Mother_level_TECHNOLOGIST  Mother_level_UNDERGRADUATE  \\\n",
       "0                            0                           0   \n",
       "1                            0                           0   \n",
       "2                            0                           1   \n",
       "3                            1                           0   \n",
       "4                            0                           0   \n",
       "..                         ...                         ...   \n",
       "269                          0                           1   \n",
       "270                          0                           0   \n",
       "271                          0                           1   \n",
       "272                          0                           1   \n",
       "273                          0                           0   \n",
       "\n",
       "     Mother_level_UNREGISTERED  \n",
       "0                            0  \n",
       "1                            0  \n",
       "2                            0  \n",
       "3                            0  \n",
       "4                            0  \n",
       "..                         ...  \n",
       "269                          0  \n",
       "270                          0  \n",
       "271                          0  \n",
       "272                          0  \n",
       "273                          1  \n",
       "\n",
       "[274 rows x 35 columns]"
      ]
     },
     "execution_count": 12,
     "metadata": {},
     "output_type": "execute_result"
    }
   ],
   "source": [
    "df"
   ]
  },
  {
   "cell_type": "code",
   "execution_count": 13,
   "metadata": {},
   "outputs": [
    {
     "data": {
      "text/plain": [
       "0    146\n",
       "1    128\n",
       "Name: Dropout, dtype: int64"
      ]
     },
     "execution_count": 13,
     "metadata": {},
     "output_type": "execute_result"
    }
   ],
   "source": [
    "drop_list={'NO':0,'YES':1}\n",
    "df.Dropout=[drop_list[item]for item in df.Dropout]\n",
    "df.Dropout.value_counts()"
   ]
  },
  {
   "cell_type": "code",
   "execution_count": 14,
   "metadata": {},
   "outputs": [
    {
     "name": "stdout",
     "output_type": "stream",
     "text": [
      "(274, 34)\n",
      "(274,)\n"
     ]
    }
   ],
   "source": [
    "X = df.drop('Dropout', axis = 1)\n",
    "y = df['Dropout']\n",
    "print(X.shape)\n",
    "print(y.shape)"
   ]
  },
  {
   "cell_type": "code",
   "execution_count": 15,
   "metadata": {},
   "outputs": [
    {
     "data": {
      "text/plain": [
       "RandomForestClassifier()"
      ]
     },
     "execution_count": 15,
     "metadata": {},
     "output_type": "execute_result"
    }
   ],
   "source": [
    "from sklearn.ensemble import RandomForestClassifier\n",
    "rdc=RandomForestClassifier()\n",
    "\n",
    "rdc.fit(X,y)"
   ]
  },
  {
   "cell_type": "code",
   "execution_count": 16,
   "metadata": {},
   "outputs": [],
   "source": [
    "ypred=rdc.predict(X)"
   ]
  },
  {
   "cell_type": "code",
   "execution_count": 17,
   "metadata": {},
   "outputs": [
    {
     "name": "stdout",
     "output_type": "stream",
     "text": [
      "Index(['Socioeconomic_level', 'Age', 'Vulnerable_group', 'Family_income',\n",
      "       'STEM_subjects', 'H_subjects', 'Residence_city_FOREIGN',\n",
      "       'Residence_city_LOCAL', 'Residence_city_NEIGHBOR',\n",
      "       'Civil_status_Free union', 'Civil_status_Married',\n",
      "       'Civil_status_Separated', 'Civil_status_Unmarried', 'State_FOREIGN',\n",
      "       'State_LOCAL', 'State_NEIGHBOR', 'Province_FOREIGN', 'Province_LOCAL',\n",
      "       'Province_NEIGHBOR', 'Desired_program_ELECTRONIC AUTOMATION TECHNOLOGY',\n",
      "       'Desired_program_INFORMATIC ENGINEERING', 'Desired_program_UNSPECIFIED',\n",
      "       'Father_level_HIGH SCHOOL', 'Father_level_PRIMARY SCHOOL',\n",
      "       'Father_level_TECHNICAL', 'Father_level_TECHNOLOGIST',\n",
      "       'Father_level_UNDERGRADUATE', 'Father_level_UNREGISTERED',\n",
      "       'Mother_level_HIGH SCHOOL', 'Mother_level_PRIMARY SCHOOL',\n",
      "       'Mother_level_TECHNICAL', 'Mother_level_TECHNOLOGIST',\n",
      "       'Mother_level_UNDERGRADUATE', 'Mother_level_UNREGISTERED'],\n",
      "      dtype='object')\n"
     ]
    }
   ],
   "source": [
    "print(X.columns)"
   ]
  },
  {
   "cell_type": "code",
   "execution_count": 18,
   "metadata": {},
   "outputs": [],
   "source": [
    "import pickle\n",
    "with open('dropout_file.pkl', 'wb') as file:\n",
    "  # dump information to that file\n",
    "  pickle.dump(rdc, file)"
   ]
  },
  {
   "cell_type": "code",
   "execution_count": null,
   "metadata": {},
   "outputs": [],
   "source": []
  }
 ],
 "metadata": {
  "interpreter": {
   "hash": "447b36108fd6753a1c09ea0b5e3f64512bee57754dab52feb39d9294b79bdf32"
  },
  "kernelspec": {
   "display_name": "Python 3.7.4 ('base')",
   "language": "python",
   "name": "python3"
  },
  "language_info": {
   "codemirror_mode": {
    "name": "ipython",
    "version": 3
   },
   "file_extension": ".py",
   "mimetype": "text/x-python",
   "name": "python",
   "nbconvert_exporter": "python",
   "pygments_lexer": "ipython3",
   "version": "3.7.4"
  },
  "orig_nbformat": 4
 },
 "nbformat": 4,
 "nbformat_minor": 2
}
